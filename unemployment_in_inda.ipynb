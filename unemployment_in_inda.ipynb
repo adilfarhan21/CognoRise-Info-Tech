{
  "cells": [
    {
      "cell_type": "markdown",
      "metadata": {
        "id": "view-in-github",
        "colab_type": "text"
      },
      "source": [
        "<a href=\"https://colab.research.google.com/github/adilfarhan21/CognoRise-Info-Tech/blob/main/unemployment_in_inda.ipynb\" target=\"_parent\"><img src=\"https://colab.research.google.com/assets/colab-badge.svg\" alt=\"Open In Colab\"/></a>"
      ]
    },
    {
      "cell_type": "code",
      "execution_count": null,
      "metadata": {
        "id": "Rn4qqTBOYeDb"
      },
      "outputs": [],
      "source": [
        "#importing necessary libraries\n",
        "import pandas as pd\n",
        "import numpy as np\n",
        "import matplotlib.pyplot as plt\n",
        "import seaborn as sns\n",
        "df=pd.read_csv('/content/Unemployment in India (1).csv')"
      ]
    },
    {
      "cell_type": "code",
      "execution_count": null,
      "metadata": {
        "colab": {
          "base_uri": "https://localhost:8080/"
        },
        "id": "bOXSEOTyYtyT",
        "outputId": "a56a16b1-e0ae-4385-8170-0b7d5110e378"
      },
      "outputs": [
        {
          "name": "stdout",
          "output_type": "stream",
          "text": [
            "             Region         Date  Frequency   Estimated Unemployment Rate (%)  \\\n",
            "0    Andhra Pradesh   31-05-2019    Monthly                              3.65   \n",
            "1    Andhra Pradesh   30-06-2019    Monthly                              3.05   \n",
            "2    Andhra Pradesh   31-07-2019    Monthly                              3.75   \n",
            "3    Andhra Pradesh   31-08-2019    Monthly                              3.32   \n",
            "4    Andhra Pradesh   30-09-2019    Monthly                              5.17   \n",
            "..              ...          ...        ...                               ...   \n",
            "763             NaN          NaN        NaN                               NaN   \n",
            "764             NaN          NaN        NaN                               NaN   \n",
            "765             NaN          NaN        NaN                               NaN   \n",
            "766             NaN          NaN        NaN                               NaN   \n",
            "767             NaN          NaN        NaN                               NaN   \n",
            "\n",
            "      Estimated Employed   Estimated Labour Participation Rate (%)   Area  \n",
            "0             11999139.0                                     43.24  Rural  \n",
            "1             11755881.0                                     42.05  Rural  \n",
            "2             12086707.0                                     43.50  Rural  \n",
            "3             12285693.0                                     43.97  Rural  \n",
            "4             12256762.0                                     44.68  Rural  \n",
            "..                   ...                                       ...    ...  \n",
            "763                  NaN                                       NaN    NaN  \n",
            "764                  NaN                                       NaN    NaN  \n",
            "765                  NaN                                       NaN    NaN  \n",
            "766                  NaN                                       NaN    NaN  \n",
            "767                  NaN                                       NaN    NaN  \n",
            "\n",
            "[768 rows x 7 columns]\n"
          ]
        }
      ],
      "source": [
        "print(df)"
      ]
    },
    {
      "cell_type": "code",
      "execution_count": null,
      "metadata": {
        "colab": {
          "base_uri": "https://localhost:8080/"
        },
        "id": "o4QByuWoYxTe",
        "outputId": "1c58f4aa-4ccc-4dcd-8ef9-653f5bf05403"
      },
      "outputs": [
        {
          "data": {
            "text/plain": [
              "Region                                       object\n",
              " Date                                        object\n",
              " Frequency                                   object\n",
              " Estimated Unemployment Rate (%)            float64\n",
              " Estimated Employed                         float64\n",
              " Estimated Labour Participation Rate (%)    float64\n",
              "Area                                         object\n",
              "dtype: object"
            ]
          },
          "execution_count": 34,
          "metadata": {},
          "output_type": "execute_result"
        }
      ],
      "source": [
        "df.dtypes"
      ]
    },
    {
      "cell_type": "code",
      "execution_count": null,
      "metadata": {
        "colab": {
          "base_uri": "https://localhost:8080/"
        },
        "id": "adoojOrgY29u",
        "outputId": "1a625eff-9a79-4965-8e60-0d493381c1ee"
      },
      "outputs": [
        {
          "data": {
            "text/plain": [
              "(768, 7)"
            ]
          },
          "execution_count": 35,
          "metadata": {},
          "output_type": "execute_result"
        }
      ],
      "source": [
        "df.shape"
      ]
    },
    {
      "cell_type": "code",
      "execution_count": null,
      "metadata": {
        "colab": {
          "base_uri": "https://localhost:8080/"
        },
        "id": "zzDoJ1vxY_YM",
        "outputId": "c4745b75-e7e8-44d3-a9b8-4b480299cbaf"
      },
      "outputs": [
        {
          "data": {
            "text/plain": [
              "Region                                      28\n",
              " Date                                       28\n",
              " Frequency                                  28\n",
              " Estimated Unemployment Rate (%)            28\n",
              " Estimated Employed                         28\n",
              " Estimated Labour Participation Rate (%)    28\n",
              "Area                                        28\n",
              "dtype: int64"
            ]
          },
          "execution_count": 36,
          "metadata": {},
          "output_type": "execute_result"
        }
      ],
      "source": [
        "df.isnull().sum()  #find missing values"
      ]
    },
    {
      "cell_type": "code",
      "execution_count": null,
      "metadata": {
        "id": "a7ycLSJyZ2Qd"
      },
      "outputs": [],
      "source": [
        "df1=df.dropna(axis=0)  #deleting the entire row contains missing value"
      ]
    },
    {
      "cell_type": "code",
      "execution_count": null,
      "metadata": {
        "colab": {
          "base_uri": "https://localhost:8080/"
        },
        "id": "4WRSJhffbAdr",
        "outputId": "2c9ee084-b540-46c8-d6c3-5d84559cf739"
      },
      "outputs": [
        {
          "name": "stdout",
          "output_type": "stream",
          "text": [
            "             Region         Date  Frequency   Estimated Unemployment Rate (%)  \\\n",
            "0    Andhra Pradesh   31-05-2019    Monthly                              3.65   \n",
            "1    Andhra Pradesh   30-06-2019    Monthly                              3.05   \n",
            "2    Andhra Pradesh   31-07-2019    Monthly                              3.75   \n",
            "3    Andhra Pradesh   31-08-2019    Monthly                              3.32   \n",
            "4    Andhra Pradesh   30-09-2019    Monthly                              5.17   \n",
            "..              ...          ...        ...                               ...   \n",
            "749     West Bengal   29-02-2020    Monthly                              7.55   \n",
            "750     West Bengal   31-03-2020    Monthly                              6.67   \n",
            "751     West Bengal   30-04-2020    Monthly                             15.63   \n",
            "752     West Bengal   31-05-2020    Monthly                             15.22   \n",
            "753     West Bengal   30-06-2020    Monthly                              9.86   \n",
            "\n",
            "      Estimated Employed   Estimated Labour Participation Rate (%)   Area  \n",
            "0             11999139.0                                     43.24  Rural  \n",
            "1             11755881.0                                     42.05  Rural  \n",
            "2             12086707.0                                     43.50  Rural  \n",
            "3             12285693.0                                     43.97  Rural  \n",
            "4             12256762.0                                     44.68  Rural  \n",
            "..                   ...                                       ...    ...  \n",
            "749           10871168.0                                     44.09  Urban  \n",
            "750           10806105.0                                     43.34  Urban  \n",
            "751            9299466.0                                     41.20  Urban  \n",
            "752            9240903.0                                     40.67  Urban  \n",
            "753            9088931.0                                     37.57  Urban  \n",
            "\n",
            "[740 rows x 7 columns]\n"
          ]
        }
      ],
      "source": [
        "print(df1)"
      ]
    },
    {
      "cell_type": "code",
      "execution_count": null,
      "metadata": {
        "colab": {
          "base_uri": "https://localhost:8080/"
        },
        "id": "WVHEGlY4a7Wq",
        "outputId": "1a8aa726-01c3-48d4-ec94-a1e7fb177343"
      },
      "outputs": [
        {
          "data": {
            "text/plain": [
              "False"
            ]
          },
          "execution_count": 39,
          "metadata": {},
          "output_type": "execute_result"
        }
      ],
      "source": [
        "df1.duplicated().any()"
      ]
    },
    {
      "cell_type": "code",
      "execution_count": null,
      "metadata": {
        "colab": {
          "base_uri": "https://localhost:8080/"
        },
        "id": "nv_Y2JfQF7el",
        "outputId": "5293cacd-d626-48d1-b9e3-d9a8d4c39b0a"
      },
      "outputs": [
        {
          "data": {
            "text/plain": [
              "(740, 7)"
            ]
          },
          "execution_count": 40,
          "metadata": {},
          "output_type": "execute_result"
        }
      ],
      "source": [
        "df1.shape"
      ]
    },
    {
      "cell_type": "code",
      "execution_count": null,
      "metadata": {
        "colab": {
          "base_uri": "https://localhost:8080/"
        },
        "id": "FaLiXT913AZA",
        "outputId": "c264320f-c6e6-492e-84e3-24c260e4964f"
      },
      "outputs": [
        {
          "name": "stdout",
          "output_type": "stream",
          "text": [
            "Region\n",
            "Andhra Pradesh       7.477143\n",
            "Assam                6.428077\n",
            "Bihar               18.918214\n",
            "Chandigarh          15.991667\n",
            "Chhattisgarh         9.240357\n",
            "Delhi               16.495357\n",
            "Goa                  9.274167\n",
            "Gujarat              6.663929\n",
            "Haryana             26.283214\n",
            "Himachal Pradesh    18.540357\n",
            "Jammu & Kashmir     16.188571\n",
            "Jharkhand           20.585000\n",
            "Karnataka            6.676071\n",
            "Kerala              10.123929\n",
            "Madhya Pradesh       7.406429\n",
            "Maharashtra          7.557500\n",
            "Meghalaya            4.798889\n",
            "Odisha               5.657857\n",
            "Puducherry          10.215000\n",
            "Punjab              12.031071\n",
            "Rajasthan           14.058214\n",
            "Sikkim               7.249412\n",
            "Tamil Nadu           9.284286\n",
            "Telangana            7.737857\n",
            "Tripura             28.350357\n",
            "Uttar Pradesh       12.551429\n",
            "Uttarakhand          6.582963\n",
            "West Bengal          8.124643\n",
            "Name:  Estimated Unemployment Rate (%), dtype: float64\n"
          ]
        }
      ],
      "source": [
        "#average unemployment rate by Regions\n",
        "avg_unemployment_rate=df.groupby('Region')[' Estimated Unemployment Rate (%)'].mean()\n",
        "print(avg_unemployment_rate)"
      ]
    },
    {
      "cell_type": "code",
      "execution_count": null,
      "metadata": {
        "colab": {
          "base_uri": "https://localhost:8080/"
        },
        "id": "23F5UOJJfaJa",
        "outputId": "b11bd3d9-7d8a-4ab5-ecfd-471d5c2d46ab"
      },
      "outputs": [
        {
          "data": {
            "text/plain": [
              "Index(['Andhra Pradesh', 'Assam', 'Bihar', 'Chandigarh', 'Chhattisgarh',\n",
              "       'Delhi', 'Goa', 'Gujarat', 'Haryana', 'Himachal Pradesh',\n",
              "       'Jammu & Kashmir', 'Jharkhand', 'Karnataka', 'Kerala', 'Madhya Pradesh',\n",
              "       'Maharashtra', 'Meghalaya', 'Odisha', 'Puducherry', 'Punjab',\n",
              "       'Rajasthan', 'Sikkim', 'Tamil Nadu', 'Telangana', 'Tripura',\n",
              "       'Uttar Pradesh', 'Uttarakhand', 'West Bengal'],\n",
              "      dtype='object', name='Region')"
            ]
          },
          "execution_count": 13,
          "metadata": {},
          "output_type": "execute_result"
        }
      ],
      "source": [
        "avg_unemployment_rate.index"
      ]
    },
    {
      "cell_type": "code",
      "execution_count": null,
      "metadata": {
        "colab": {
          "base_uri": "https://localhost:8080/"
        },
        "id": "Ta4lVLQITxRB",
        "outputId": "5a47a27e-946b-45da-9b14-002bd51a9b25"
      },
      "outputs": [
        {
          "data": {
            "text/plain": [
              "28.350357142857142"
            ]
          },
          "execution_count": 42,
          "metadata": {},
          "output_type": "execute_result"
        }
      ],
      "source": [
        "avg_unemployment_rate.max()"
      ]
    },
    {
      "cell_type": "code",
      "execution_count": null,
      "metadata": {
        "colab": {
          "base_uri": "https://localhost:8080/"
        },
        "id": "G8t4pJOsUncv",
        "outputId": "50bfba15-70f5-48b9-fb08-ea7fd06285ac"
      },
      "outputs": [
        {
          "data": {
            "text/plain": [
              "4.7988888888888885"
            ]
          },
          "execution_count": 43,
          "metadata": {},
          "output_type": "execute_result"
        }
      ],
      "source": [
        "avg_unemployment_rate.min()"
      ]
    },
    {
      "cell_type": "code",
      "execution_count": null,
      "metadata": {
        "colab": {
          "base_uri": "https://localhost:8080/"
        },
        "id": "7_MewjYA9ClM",
        "outputId": "66029f6b-4bdd-4457-94c3-814acfe16d4e"
      },
      "outputs": [
        {
          "name": "stdout",
          "output_type": "stream",
          "text": [
            "Tripura\n"
          ]
        }
      ],
      "source": [
        "#Region with highest unemployment rate\n",
        "Region_with_highest_unemployment_rate=avg_unemployment_rate.idxmax()\n",
        "print(Region_with_highest_unemployment_rate)"
      ]
    },
    {
      "cell_type": "code",
      "execution_count": null,
      "metadata": {
        "colab": {
          "base_uri": "https://localhost:8080/"
        },
        "id": "fZsZ6rIg8FNc",
        "outputId": "bb2b2b14-e604-4cc4-ffbf-b85c3c1200a6"
      },
      "outputs": [
        {
          "name": "stdout",
          "output_type": "stream",
          "text": [
            "Meghalaya\n"
          ]
        }
      ],
      "source": [
        "#Region with lowest unemployment rate\n",
        "Region_with_lowest_unemployment_rate=avg_unemployment_rate.idxmin()\n",
        "print(Region_with_lowest_unemployment_rate)"
      ]
    },
    {
      "cell_type": "code",
      "execution_count": null,
      "metadata": {
        "colab": {
          "base_uri": "https://localhost:8080/",
          "height": 601
        },
        "id": "l3VS2S4DWKhg",
        "outputId": "e0da46ee-93fd-481a-acaa-2a302c1682f9"
      },
      "outputs": [
        {
          "data": {
            "text/plain": [
              "Text(0.5, 1.0, 'Average unemployment rate in india')"
            ]
          },
          "execution_count": 20,
          "metadata": {},
          "output_type": "execute_result"
        },
        {
          "data": {
            "image/png": "[encoded data removed]",
            "text/plain": [
              "<Figure size 640x480 with 1 Axes>"
            ]
          },
          "metadata": {},
          "output_type": "display_data"
        }
      ],
      "source": [
        "#bar plot of showing avg_unemployment_rate for Regions\n",
        "x= avg_unemployment_rate.index\n",
        "y= avg_unemployment_rate\n",
        "plt.bar(x,y)\n",
        "plt.xlabel('Region')\n",
        "plt.ylabel('avg_unemployment_rate')\n",
        "plt.xticks(rotation=90)\n",
        "plt.title('Average unemployment rate in india')"
      ]
    },
    {
      "cell_type": "markdown",
      "metadata": {
        "id": "cif2DdVwJDsz"
      },
      "source": []
    },
    {
      "cell_type": "code",
      "execution_count": null,
      "metadata": {
        "colab": {
          "base_uri": "https://localhost:8080/",
          "height": 448
        },
        "id": "peTy5jntMZZf",
        "outputId": "a90b88e7-1196-452f-b493-2559af1c519c"
      },
      "outputs": [
        {
          "data": {
            "image/png": "[encoded data removed]",
            "text/plain": [
              "<Figure size 1000x600 with 1 Axes>"
            ]
          },
          "metadata": {},
          "output_type": "display_data"
        }
      ],
      "source": [
        "#histogram of unemployment rate in india(disribution of unemployment rate in india)\n",
        "plt.figure(figsize=(10, 6))\n",
        "plt.hist(df1[' Estimated Unemployment Rate (%)'], bins=20, edgecolor='k')\n",
        "plt.title(\"Unemployment Rate Distribution\")\n",
        "plt.xlabel(\"Estimated Unemployment Rate (%)\")\n",
        "plt.ylabel(\"Frequency\")\n",
        "plt.show()"
      ]
    },
    {
      "cell_type": "code",
      "execution_count": null,
      "metadata": {
        "colab": {
          "background_save": true
        },
        "id": "bLBGLLDZhKdH",
        "outputId": "59d7eb3f-dcd9-4bef-dcb9-33b5b4d6bc57"
      },
      "outputs": [
        {
          "name": "stdout",
          "output_type": "stream",
          "text": [
            "<pandas.core.groupby.generic.SeriesGroupBy object at 0x7a1fcc72dd20>\n"
          ]
        }
      ],
      "source": [
        "#which region has the highest employed individuals\n",
        "no_of_employed=df.groupby('Region')[' Estimated Employed']\n",
        "print(no_of_employed)"
      ]
    },
    {
      "cell_type": "code",
      "execution_count": null,
      "metadata": {
        "colab": {
          "base_uri": "https://localhost:8080/"
        },
        "id": "5O2PGBmigMQL",
        "outputId": "978a0406-4abf-4e68-d70f-82411c133bb8"
      },
      "outputs": [
        {
          "data": {
            "text/plain": [
              "Region\n",
              "Andhra Pradesh       2544084.0\n",
              "Assam                1441722.0\n",
              "Bihar                1400962.0\n",
              "Chandigarh            279839.0\n",
              "Chhattisgarh         1066126.0\n",
              "Delhi                 112108.0\n",
              "Goa                   128538.0\n",
              "Gujarat              6072776.0\n",
              "Haryana              1606580.0\n",
              "Himachal Pradesh      134868.0\n",
              "Jammu & Kashmir       937435.0\n",
              "Jharkhand             830347.0\n",
              "Karnataka            7387995.0\n",
              "Kerala               1754170.0\n",
              "Madhya Pradesh       3879934.0\n",
              "Maharashtra         12365754.0\n",
              "Meghalaya             161939.0\n",
              "Odisha               1303244.0\n",
              "Puducherry             49420.0\n",
              "Punjab               2298975.0\n",
              "Rajasthan            2932923.0\n",
              "Sikkim                 75456.0\n",
              "Tamil Nadu           4632967.0\n",
              "Telangana            3108830.0\n",
              "Tripura               296431.0\n",
              "Uttar Pradesh       10944379.0\n",
              "Uttarakhand           676797.0\n",
              "West Bengal          9088931.0\n",
              "Name:  Estimated Employed, dtype: float64"
            ]
          },
          "execution_count": 7,
          "metadata": {},
          "output_type": "execute_result"
        }
      ],
      "source": [
        "no_of_employed.max().sort_values()\n",
        "no_of_employed.min()"
      ]
    }
  ],
  "metadata": {
    "colab": {
      "provenance": [],
      "authorship_tag": "ABX9TyNENbH9J+exHeBeEcRnRv2r",
      "include_colab_link": true
    },
    "kernelspec": {
      "display_name": "Python 3",
      "name": "python3"
    },
    "language_info": {
      "name": "python"
    }
  },
  "nbformat": 4,
  "nbformat_minor": 0
}